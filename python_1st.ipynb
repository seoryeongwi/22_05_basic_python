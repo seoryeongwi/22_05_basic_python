{
  "nbformat": 4,
  "nbformat_minor": 0,
  "metadata": {
    "colab": {
      "provenance": [],
      "authorship_tag": "ABX9TyNPfFoN29ZR89LSpjLe2ghX",
      "include_colab_link": true
    },
    "kernelspec": {
      "name": "python3",
      "display_name": "Python 3"
    },
    "language_info": {
      "name": "python"
    }
  },
  "cells": [
    {
      "cell_type": "markdown",
      "metadata": {
        "id": "view-in-github",
        "colab_type": "text"
      },
      "source": [
        "<a href=\"https://colab.research.google.com/github/seoryeongwi/22_05_basic_python/blob/main/python_1st.ipynb\" target=\"_parent\"><img src=\"https://colab.research.google.com/assets/colab-badge.svg\" alt=\"Open In Colab\"/></a>"
      ]
    },
    {
      "cell_type": "markdown",
      "source": [
        "1. \"안녕하세요\"를 화면에 출력해보자."
      ],
      "metadata": {
        "id": "977OSgOwZHVZ"
      }
    },
    {
      "cell_type": "code",
      "source": [
        "print(\"안녕하세요\")"
      ],
      "metadata": {
        "colab": {
          "base_uri": "https://localhost:8080/"
        },
        "id": "lOC8eLC5ZSeC",
        "outputId": "e5c9a381-eb87-4f46-dac3-e6dab4d01770"
      },
      "execution_count": 1,
      "outputs": [
        {
          "output_type": "stream",
          "name": "stdout",
          "text": [
            "안녕하세요\n"
          ]
        }
      ]
    },
    {
      "cell_type": "markdown",
      "source": [
        "2. programming에 입문하신것을 축하드립니다.를 출력하시오."
      ],
      "metadata": {
        "id": "AaL0nnhaZ63X"
      }
    },
    {
      "cell_type": "code",
      "source": [
        "print(\"programming에 입문하신것을 축하드립니다\")"
      ],
      "metadata": {
        "colab": {
          "base_uri": "https://localhost:8080/"
        },
        "id": "f8DjHLBGaMyY",
        "outputId": "a6d2fc57-a2a4-42b3-8085-21b7dc3d0803"
      },
      "execution_count": 2,
      "outputs": [
        {
          "output_type": "stream",
          "name": "stdout",
          "text": [
            "programming에 입문하신것을 축하드립니다\n"
          ]
        }
      ]
    }
  ]
}